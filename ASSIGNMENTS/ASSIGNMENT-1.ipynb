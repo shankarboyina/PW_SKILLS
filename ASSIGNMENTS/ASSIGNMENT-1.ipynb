{
  "nbformat": 4,
  "nbformat_minor": 0,
  "metadata": {
    "colab": {
      "provenance": []
    },
    "kernelspec": {
      "name": "python3",
      "display_name": "Python 3"
    },
    "language_info": {
      "name": "python"
    }
  },
  "cells": [
    {
      "cell_type": "markdown",
      "source": [
        "Q.1.Explain the key features of Python that makes it a popular choice for programming\n",
        "\n",
        "\n",
        "*  Easy to read\n",
        "*  Easy to Understand\n",
        "*  Large number of Libraries\n",
        "*  Scalability\n",
        "*  versatility\n",
        "*  Portability\n",
        "*  Open Source\n",
        "*  Community\n",
        "Above features makes python different from the other programming languages\n",
        "\n",
        " Q.2.Describe the role of predefined keywords in Python and provide examples of how they are used in\n",
        " a program .\n",
        "\n",
        " Predefined key words are those which  have a specific meaning for the compiler and hence have a fixed usage.\n",
        "\n",
        "\n",
        "\n",
        "\n",
        "\n",
        "\n",
        "\n",
        "\n",
        "\n",
        "\n",
        "\n",
        "\n"
      ],
      "metadata": {
        "id": "5guFnO2eaBgF"
      }
    },
    {
      "cell_type": "code",
      "execution_count": 5,
      "metadata": {
        "colab": {
          "base_uri": "https://localhost:8080/",
          "height": 0
        },
        "id": "8YxGlAs9aAug",
        "outputId": "f3404b3d-2653-4268-9f41-3ff812b9123c"
      },
      "outputs": [
        {
          "output_type": "stream",
          "name": "stdout",
          "text": [
            "\n",
            "Here is a list of the Python keywords.  Enter any keyword to get more help.\n",
            "\n",
            "False               class               from                or\n",
            "None                continue            global              pass\n",
            "True                def                 if                  raise\n",
            "and                 del                 import              return\n",
            "as                  elif                in                  try\n",
            "assert              else                is                  while\n",
            "async               except              lambda              with\n",
            "await               finally             nonlocal            yield\n",
            "break               for                 not                 \n",
            "\n"
          ]
        }
      ],
      "source": [
        "help(\"keywords\")"
      ]
    },
    {
      "cell_type": "code",
      "source": [
        "help(\"def\")\n",
        "help(\"if\")\n",
        "help(\"true\")\n",
        "help(\"while\")"
      ],
      "metadata": {
        "colab": {
          "base_uri": "https://localhost:8080/",
          "height": 0
        },
        "id": "F2xZlYXacYzS",
        "outputId": "4a0e7669-570d-4547-8f7a-c4b6f58c36ec"
      },
      "execution_count": 9,
      "outputs": [
        {
          "output_type": "stream",
          "name": "stdout",
          "text": [
            "Function definitions\n",
            "********************\n",
            "\n",
            "A function definition defines a user-defined function object (see\n",
            "section The standard type hierarchy):\n",
            "\n",
            "   funcdef                   ::= [decorators] \"def\" funcname \"(\" [parameter_list] \")\"\n",
            "               [\"->\" expression] \":\" suite\n",
            "   decorators                ::= decorator+\n",
            "   decorator                 ::= \"@\" assignment_expression NEWLINE\n",
            "   parameter_list            ::= defparameter (\",\" defparameter)* \",\" \"/\" [\",\" [parameter_list_no_posonly]]\n",
            "                        | parameter_list_no_posonly\n",
            "   parameter_list_no_posonly ::= defparameter (\",\" defparameter)* [\",\" [parameter_list_starargs]]\n",
            "                                 | parameter_list_starargs\n",
            "   parameter_list_starargs   ::= \"*\" [parameter] (\",\" defparameter)* [\",\" [\"**\" parameter [\",\"]]]\n",
            "                               | \"**\" parameter [\",\"]\n",
            "   parameter                 ::= identifier [\":\" expression]\n",
            "   defparameter              ::= parameter [\"=\" expression]\n",
            "   funcname                  ::= identifier\n",
            "\n",
            "A function definition is an executable statement.  Its execution binds\n",
            "the function name in the current local namespace to a function object\n",
            "(a wrapper around the executable code for the function).  This\n",
            "function object contains a reference to the current global namespace\n",
            "as the global namespace to be used when the function is called.\n",
            "\n",
            "The function definition does not execute the function body; this gets\n",
            "executed only when the function is called. [4]\n",
            "\n",
            "A function definition may be wrapped by one or more *decorator*\n",
            "expressions. Decorator expressions are evaluated when the function is\n",
            "defined, in the scope that contains the function definition.  The\n",
            "result must be a callable, which is invoked with the function object\n",
            "as the only argument. The returned value is bound to the function name\n",
            "instead of the function object.  Multiple decorators are applied in\n",
            "nested fashion. For example, the following code\n",
            "\n",
            "   @f1(arg)\n",
            "   @f2\n",
            "   def func(): pass\n",
            "\n",
            "is roughly equivalent to\n",
            "\n",
            "   def func(): pass\n",
            "   func = f1(arg)(f2(func))\n",
            "\n",
            "except that the original function is not temporarily bound to the name\n",
            "\"func\".\n",
            "\n",
            "Changed in version 3.9: Functions may be decorated with any valid\n",
            "\"assignment_expression\". Previously, the grammar was much more\n",
            "restrictive; see **PEP 614** for details.\n",
            "\n",
            "When one or more *parameters* have the form *parameter* \"=\"\n",
            "*expression*, the function is said to have “default parameter values.”\n",
            "For a parameter with a default value, the corresponding *argument* may\n",
            "be omitted from a call, in which case the parameter’s default value is\n",
            "substituted.  If a parameter has a default value, all following\n",
            "parameters up until the “\"*\"” must also have a default value — this is\n",
            "a syntactic restriction that is not expressed by the grammar.\n",
            "\n",
            "**Default parameter values are evaluated from left to right when the\n",
            "function definition is executed.** This means that the expression is\n",
            "evaluated once, when the function is defined, and that the same “pre-\n",
            "computed” value is used for each call.  This is especially important\n",
            "to understand when a default parameter value is a mutable object, such\n",
            "as a list or a dictionary: if the function modifies the object (e.g.\n",
            "by appending an item to a list), the default parameter value is in\n",
            "effect modified.  This is generally not what was intended.  A way\n",
            "around this is to use \"None\" as the default, and explicitly test for\n",
            "it in the body of the function, e.g.:\n",
            "\n",
            "   def whats_on_the_telly(penguin=None):\n",
            "       if penguin is None:\n",
            "           penguin = []\n",
            "       penguin.append(\"property of the zoo\")\n",
            "       return penguin\n",
            "\n",
            "Function call semantics are described in more detail in section Calls.\n",
            "A function call always assigns values to all parameters mentioned in\n",
            "the parameter list, either from positional arguments, from keyword\n",
            "arguments, or from default values.  If the form “\"*identifier\"” is\n",
            "present, it is initialized to a tuple receiving any excess positional\n",
            "parameters, defaulting to the empty tuple. If the form\n",
            "“\"**identifier\"” is present, it is initialized to a new ordered\n",
            "mapping receiving any excess keyword arguments, defaulting to a new\n",
            "empty mapping of the same type.  Parameters after “\"*\"” or\n",
            "“\"*identifier\"” are keyword-only parameters and may only be passed by\n",
            "keyword arguments.  Parameters before “\"/\"” are positional-only\n",
            "parameters and may only be passed by positional arguments.\n",
            "\n",
            "Changed in version 3.8: The \"/\" function parameter syntax may be used\n",
            "to indicate positional-only parameters. See **PEP 570** for details.\n",
            "\n",
            "Parameters may have an *annotation* of the form “\": expression\"”\n",
            "following the parameter name.  Any parameter may have an annotation,\n",
            "even those of the form \"*identifier\" or \"**identifier\".  Functions may\n",
            "have “return” annotation of the form “\"-> expression\"” after the\n",
            "parameter list.  These annotations can be any valid Python expression.\n",
            "The presence of annotations does not change the semantics of a\n",
            "function.  The annotation values are available as values of a\n",
            "dictionary keyed by the parameters’ names in the \"__annotations__\"\n",
            "attribute of the function object.  If the \"annotations\" import from\n",
            "\"__future__\" is used, annotations are preserved as strings at runtime\n",
            "which enables postponed evaluation.  Otherwise, they are evaluated\n",
            "when the function definition is executed.  In this case annotations\n",
            "may be evaluated in a different order than they appear in the source\n",
            "code.\n",
            "\n",
            "It is also possible to create anonymous functions (functions not bound\n",
            "to a name), for immediate use in expressions.  This uses lambda\n",
            "expressions, described in section Lambdas.  Note that the lambda\n",
            "expression is merely a shorthand for a simplified function definition;\n",
            "a function defined in a “\"def\"” statement can be passed around or\n",
            "assigned to another name just like a function defined by a lambda\n",
            "expression.  The “\"def\"” form is actually more powerful since it\n",
            "allows the execution of multiple statements and annotations.\n",
            "\n",
            "**Programmer’s note:** Functions are first-class objects.  A “\"def\"”\n",
            "statement executed inside a function definition defines a local\n",
            "function that can be returned or passed around.  Free variables used\n",
            "in the nested function can access the local variables of the function\n",
            "containing the def.  See section Naming and binding for details.\n",
            "\n",
            "See also:\n",
            "\n",
            "  **PEP 3107** - Function Annotations\n",
            "     The original specification for function annotations.\n",
            "\n",
            "  **PEP 484** - Type Hints\n",
            "     Definition of a standard meaning for annotations: type hints.\n",
            "\n",
            "  **PEP 526** - Syntax for Variable Annotations\n",
            "     Ability to type hint variable declarations, including class\n",
            "     variables and instance variables\n",
            "\n",
            "  **PEP 563** - Postponed Evaluation of Annotations\n",
            "     Support for forward references within annotations by preserving\n",
            "     annotations in a string form at runtime instead of eager\n",
            "     evaluation.\n",
            "\n",
            "The \"if\" statement\n",
            "******************\n",
            "\n",
            "The \"if\" statement is used for conditional execution:\n",
            "\n",
            "   if_stmt ::= \"if\" assignment_expression \":\" suite\n",
            "               (\"elif\" assignment_expression \":\" suite)*\n",
            "               [\"else\" \":\" suite]\n",
            "\n",
            "It selects exactly one of the suites by evaluating the expressions one\n",
            "by one until one is found to be true (see section Boolean operations\n",
            "for the definition of true and false); then that suite is executed\n",
            "(and no other part of the \"if\" statement is executed or evaluated).\n",
            "If all expressions are false, the suite of the \"else\" clause, if\n",
            "present, is executed.\n",
            "\n",
            "Related help topics: TRUTHVALUE\n",
            "\n",
            "No Python documentation found for 'true'.\n",
            "Use help() to get the interactive help utility.\n",
            "Use help(str) for help on the str class.\n",
            "\n",
            "The \"while\" statement\n",
            "*********************\n",
            "\n",
            "The \"while\" statement is used for repeated execution as long as an\n",
            "expression is true:\n",
            "\n",
            "   while_stmt ::= \"while\" assignment_expression \":\" suite\n",
            "                  [\"else\" \":\" suite]\n",
            "\n",
            "This repeatedly tests the expression and, if it is true, executes the\n",
            "first suite; if the expression is false (which may be the first time\n",
            "it is tested) the suite of the \"else\" clause, if present, is executed\n",
            "and the loop terminates.\n",
            "\n",
            "A \"break\" statement executed in the first suite terminates the loop\n",
            "without executing the \"else\" clause’s suite.  A \"continue\" statement\n",
            "executed in the first suite skips the rest of the suite and goes back\n",
            "to testing the expression.\n",
            "\n",
            "Related help topics: break, continue, if, TRUTHVALUE\n",
            "\n"
          ]
        }
      ]
    },
    {
      "cell_type": "markdown",
      "source": [
        "Q.3.Compare and contrast mutable and immutable objects with examples\n",
        "  In Python, objects are categorized into two main types based on their mutability: mutable and\n",
        "\n",
        "  In Python, objects are categorized into two main types based on their mutability:\n",
        "               **mutable and immutable objects.**\n",
        "\n",
        "\n",
        " **Mutable Objects**\n",
        "          Mutable objects are those that can be modified after their creation. This means that the content of the object can change, but the object itself remains the same in terms of its identity.\n",
        "eg.\n",
        "Lists,Dictionaries,etc.\n",
        "\n",
        "**Immutable Objects**\n",
        "        Immutable objects, on the other hand, cannot be modified after their creation.\n",
        "eg.\n",
        "Strings,Integers,etc.\n",
        "\n",
        ""
      ],
      "metadata": {
        "id": "_2N43FufdKLR"
      }
    },
    {
      "cell_type": "code",
      "source": [
        "l = [\"baingan\", \"aaloo\", 3, 100, 2+4j, True, 100.0001]\n",
        "print(l)\n",
        "l[0]\n",
        "l[0] = \"b\"\n",
        "print(l)\n",
        "type(l) #mutable"
      ],
      "metadata": {
        "colab": {
          "base_uri": "https://localhost:8080/",
          "height": 0
        },
        "id": "HBLyARflcw-n",
        "outputId": "2390106a-64e1-4862-e47c-1223fc2d2fab"
      },
      "execution_count": 12,
      "outputs": [
        {
          "output_type": "stream",
          "name": "stdout",
          "text": [
            "['baingan', 'aaloo', 3, 100, (2+4j), True, 100.0001]\n",
            "['b', 'aaloo', 3, 100, (2+4j), True, 100.0001]\n"
          ]
        },
        {
          "output_type": "execute_result",
          "data": {
            "text/plain": [
              "list"
            ]
          },
          "metadata": {},
          "execution_count": 12
        }
      ]
    },
    {
      "cell_type": "code",
      "source": [
        "a = \"pwskills\"\n",
        "a[0]\n",
        "a[0] = \"s\" #immutable\n"
      ],
      "metadata": {
        "colab": {
          "base_uri": "https://localhost:8080/",
          "height": 176
        },
        "id": "8wcfinndfQbP",
        "outputId": "fd8ffadb-9d31-4609-9cf4-3003ffd97a0c"
      },
      "execution_count": 14,
      "outputs": [
        {
          "output_type": "error",
          "ename": "TypeError",
          "evalue": "'str' object does not support item assignment",
          "traceback": [
            "\u001b[0;31m---------------------------------------------------------------------------\u001b[0m",
            "\u001b[0;31mTypeError\u001b[0m                                 Traceback (most recent call last)",
            "\u001b[0;32m<ipython-input-14-0ddbe0ac7c9a>\u001b[0m in \u001b[0;36m<cell line: 3>\u001b[0;34m()\u001b[0m\n\u001b[1;32m      1\u001b[0m \u001b[0ma\u001b[0m \u001b[0;34m=\u001b[0m \u001b[0;34m\"pwskills\"\u001b[0m\u001b[0;34m\u001b[0m\u001b[0;34m\u001b[0m\u001b[0m\n\u001b[1;32m      2\u001b[0m \u001b[0ma\u001b[0m\u001b[0;34m[\u001b[0m\u001b[0;36m0\u001b[0m\u001b[0;34m]\u001b[0m\u001b[0;34m\u001b[0m\u001b[0;34m\u001b[0m\u001b[0m\n\u001b[0;32m----> 3\u001b[0;31m \u001b[0ma\u001b[0m\u001b[0;34m[\u001b[0m\u001b[0;36m0\u001b[0m\u001b[0;34m]\u001b[0m \u001b[0;34m=\u001b[0m \u001b[0;34m\"s\"\u001b[0m\u001b[0;34m\u001b[0m\u001b[0;34m\u001b[0m\u001b[0m\n\u001b[0m",
            "\u001b[0;31mTypeError\u001b[0m: 'str' object does not support item assignment"
          ]
        }
      ]
    },
    {
      "cell_type": "markdown",
      "source": [
        " 4.Discuss the different types of operators and provide examples of how they are used .\n",
        "\n",
        " There are Seven types of operators:\n",
        "     \n",
        "     1.Arthematic\n",
        "      \n",
        "      Arithmetic operators are used to perform basic mathematical operations.\n",
        "\n",
        "     2.Comparision\n",
        "\n",
        "      Comparison operators are used to compare two values and return a boolean result.\n",
        "\n",
        "     3.Logical\n",
        "        AND,OR,NOT\n",
        "     4.Bitwise\n",
        "        same as logical but in o ans 1s\n",
        "\n",
        "     5.Assignment\n",
        "        Assigning arthematic operators\n"
      ],
      "metadata": {
        "id": "otlq5jBdgIFg"
      }
    },
    {
      "cell_type": "markdown",
      "source": [
        "5. Explain the the comncept of type casting in python with examples\n",
        "\n",
        "    Type casting in Python refers to the conversion of one data type into another. This is useful when we need to perform operations that require specific data types, or when we want to ensure consistency in data types. Type casting can be done in two ways:\n",
        "     implicit and explicit.\n",
        "\n",
        "     **IMPLICIT:**\n",
        "      Implicit type casting, also known as coercion, is automatically performed by Python when an operation involves mixed data types. Python converts one data type to another type without human interference\n",
        "\n",
        "     **Explicit**\n",
        "     Explicit type casting, also known as type conversion, is done manually by the programmer using predefined functions. This type of casting is necessary when we need to convert between incompatible type\n",
        "\n",
        "\n"
      ],
      "metadata": {
        "id": "7rH_RRM8ie2p"
      }
    },
    {
      "cell_type": "code",
      "source": [
        "K = 99\n",
        "# Integer\n",
        "N = 99.99 # Float\n",
        " # Addition of integer and float\n",
        "result = K + N\n",
        "print(type(K))\n",
        "print(type(N))\n",
        "print(result)\n",
        "print(type(result))"
      ],
      "metadata": {
        "colab": {
          "base_uri": "https://localhost:8080/",
          "height": 0
        },
        "id": "AxEexHuufn-P",
        "outputId": "1572438f-1ded-48fc-b35b-83fccb19e187"
      },
      "execution_count": 17,
      "outputs": [
        {
          "output_type": "stream",
          "name": "stdout",
          "text": [
            "<class 'int'>\n",
            "<class 'float'>\n",
            "198.99\n",
            "<class 'float'>\n"
          ]
        }
      ]
    },
    {
      "cell_type": "code",
      "source": [
        "M=\"2\"\n",
        "print(type(M))\n",
        "N=int(M)\n",
        "print(type(N))\n",
        "print(N)"
      ],
      "metadata": {
        "colab": {
          "base_uri": "https://localhost:8080/",
          "height": 0
        },
        "id": "CwM_0DFxkf6-",
        "outputId": "e5fce760-eeed-4880-8deb-cefff4b9aeda"
      },
      "execution_count": 20,
      "outputs": [
        {
          "output_type": "stream",
          "name": "stdout",
          "text": [
            "<class 'str'>\n",
            "<class 'int'>\n",
            "2\n"
          ]
        }
      ]
    },
    {
      "cell_type": "markdown",
      "source": [
        "6.How do conditional statements work in Python. Illustrate with examples.\n",
        "  conditional statements are:\n",
        "  if condition\n",
        "  if else\n",
        "  if elif else\n",
        "  nested if else"
      ],
      "metadata": {
        "id": "gnG9GpRilVqU"
      }
    },
    {
      "cell_type": "code",
      "source": [
        "a = 200\n",
        "if a > 100: #to execute the if block of code if the condition is true\n",
        "    print(\"a is greater than 100.\")"
      ],
      "metadata": {
        "colab": {
          "base_uri": "https://localhost:8080/",
          "height": 0
        },
        "id": "8Haj4h9Ok8Rw",
        "outputId": "9798688b-b9a3-4e4d-a19f-93ac84f9f3e5"
      },
      "execution_count": 21,
      "outputs": [
        {
          "output_type": "stream",
          "name": "stdout",
          "text": [
            "a is greater than 100.\n"
          ]
        }
      ]
    },
    {
      "cell_type": "code",
      "source": [
        "#if-else\n",
        "\n",
        "is_ds_course = False\n",
        "if is_ds_course:\n",
        "    print(\"I am studing in pwskills and watching the lecture\")\n",
        "else:\n",
        "    print(\"I will watch a movie\")"
      ],
      "metadata": {
        "colab": {
          "base_uri": "https://localhost:8080/",
          "height": 0
        },
        "id": "FbewTAX8l95E",
        "outputId": "40c4b641-e115-4d8e-d919-d2ffb005da43"
      },
      "execution_count": 22,
      "outputs": [
        {
          "output_type": "stream",
          "name": "stdout",
          "text": [
            "I will watch a movie\n"
          ]
        }
      ]
    },
    {
      "cell_type": "code",
      "source": [
        "#if -elif -else\n",
        "a = 100\n",
        "if a > 100:\n",
        "    print(\"no is greater than 100\")\n",
        "elif a < 100:\n",
        "    print(\"The no is less than 100\")\n",
        "else:\n",
        "    print(\"equals to 100\")"
      ],
      "metadata": {
        "colab": {
          "base_uri": "https://localhost:8080/",
          "height": 0
        },
        "id": "E4ZcuiZTmfyW",
        "outputId": "b9e36f1e-e45a-447d-9e7b-97a52e738e98"
      },
      "execution_count": 23,
      "outputs": [
        {
          "output_type": "stream",
          "name": "stdout",
          "text": [
            "equals to 100\n"
          ]
        }
      ]
    },
    {
      "cell_type": "markdown",
      "source": [
        " Q.7.Describe the different types of loops in Python and their use cases with examples.\n",
        "\n",
        " loops allows us to repeatedly execute a block of code\n",
        " loops are of teo types: for loop and while loop\n",
        "\n",
        "while loops : repeatedly executes a block of code as long as condition is True\n",
        "\n",
        "for loops   : iterate over a sequence of elements\n"
      ],
      "metadata": {
        "id": "AnZwUkdWmngP"
      }
    },
    {
      "cell_type": "code",
      "source": [
        "n = 7\n",
        "i = 1\n",
        "while i<n:\n",
        "    print(i)\n",
        "    i = i+1\n",
        "else:\n",
        "    print(\"This will be executed when the while loop is run succeessfully without any break\")"
      ],
      "metadata": {
        "colab": {
          "base_uri": "https://localhost:8080/",
          "height": 0
        },
        "id": "ugvigWCKmk6d",
        "outputId": "18830e5f-bb4a-4b3f-9c1c-c4f7692276d9"
      },
      "execution_count": 24,
      "outputs": [
        {
          "output_type": "stream",
          "name": "stdout",
          "text": [
            "1\n",
            "2\n",
            "3\n",
            "4\n",
            "5\n",
            "6\n",
            "This will be executed when the while loop is run succeessfully without any break\n"
          ]
        }
      ]
    },
    {
      "cell_type": "code",
      "source": [
        "l = [1, 2, 3, 4, \"MANI\", \"SHANKAR\"]\n",
        "for i in l:\n",
        "    print(i)\n",
        "else:\n",
        "    print(\"This will executed when loop ends without a break\")"
      ],
      "metadata": {
        "colab": {
          "base_uri": "https://localhost:8080/",
          "height": 0
        },
        "id": "RDe_LqbYndG3",
        "outputId": "856a7274-dd66-4fdf-e2c1-92498ea05a23"
      },
      "execution_count": 26,
      "outputs": [
        {
          "output_type": "stream",
          "name": "stdout",
          "text": [
            "1\n",
            "2\n",
            "3\n",
            "4\n",
            "MANI\n",
            "SHANKAR\n",
            "This will executed when loop ends without a break\n"
          ]
        }
      ]
    },
    {
      "cell_type": "code",
      "source": [],
      "metadata": {
        "id": "CLQ7y3xRnhmP"
      },
      "execution_count": null,
      "outputs": []
    }
  ]
}